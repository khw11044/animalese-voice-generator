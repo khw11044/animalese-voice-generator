{
 "cells": [
  {
   "cell_type": "code",
   "execution_count": 7,
   "metadata": {},
   "outputs": [],
   "source": [
    "from gtts import gTTS\n",
    "from pydub import AudioSegment\n",
    "import random, os"
   ]
  },
  {
   "cell_type": "markdown",
   "metadata": {},
   "source": [
    "# Create Directory for Cache and Result"
   ]
  },
  {
   "cell_type": "code",
   "execution_count": 8,
   "metadata": {},
   "outputs": [],
   "source": [
    "os.makedirs('samples', exist_ok=True)\n",
    "os.makedirs('result', exist_ok=True)"
   ]
  },
  {
   "cell_type": "markdown",
   "metadata": {},
   "source": [
    "# Define Input"
   ]
  },
  {
   "cell_type": "code",
   "execution_count": 9,
   "metadata": {},
   "outputs": [],
   "source": [
    "string = '안녕하세요 너굴 상회입니다'\n",
    "lang = 'ko'\n",
    "random_factor = 0.35\n",
    "normal_frame_rate = 44100"
   ]
  },
  {
   "cell_type": "markdown",
   "metadata": {},
   "source": [
    "# Process Audio"
   ]
  },
  {
   "cell_type": "code",
   "execution_count": 10,
   "metadata": {},
   "outputs": [
    {
     "name": "stdout",
     "output_type": "stream",
     "text": [
      "안 - octaves: 2.23, fr: 112892\n",
      "녕 - octaves: 2.33, fr: 120699\n",
      "하 - octaves: 2.29, fr: 117251\n",
      "세 - octaves: 2.18, fr: 108793\n",
      "요 - octaves: 2.01, fr: 96779\n",
      "너 - octaves: 2.03, fr: 98351\n",
      "굴 - octaves: 2.31, fr: 119052\n",
      "상 - octaves: 2.02, fr: 97409\n",
      "회 - octaves: 2.24, fr: 113122\n",
      "입 - octaves: 2.23, fr: 112668\n",
      "니 - octaves: 2.20, fr: 110465\n",
      "다 - octaves: 2.16, fr: 107550\n"
     ]
    },
    {
     "data": {
      "text/html": [
       "\n",
       "                    <audio controls>\n",
       "                        <source src=\"data:audio/mpeg;base64,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\" type=\"audio/mpeg\"/>\n",
       "                        Your browser does not support the audio element.\n",
       "                    </audio>\n",
       "                  "
      ],
      "text/plain": [
       "<pydub.audio_segment.AudioSegment at 0x78c6d71230d0>"
      ]
     },
     "execution_count": 10,
     "metadata": {},
     "output_type": "execute_result"
    }
   ],
   "source": [
    "result_sound = None\n",
    "\n",
    "for i, letter in enumerate(string):\n",
    "    if letter == ' ': # fill empty sound\n",
    "        new_sound = letter_sound._spawn(b'\\x00' * (normal_frame_rate // 3), overrides={'frame_rate': normal_frame_rate})\n",
    "    else: # fill tts sound\n",
    "        # create tts if sample sound not exist\n",
    "        if not os.path.isfile('samples/%s.mp3' % letter):\n",
    "            tts = gTTS(letter, lang=lang)\n",
    "            tts.save('samples/%s.mp3' % letter)\n",
    "\n",
    "        # load sample sound\n",
    "        letter_sound = AudioSegment.from_mp3('samples/%s.mp3' % letter)\n",
    "\n",
    "        # slice out head and tail part of audio\n",
    "        raw = letter_sound.raw_data[5000:-5000]\n",
    "\n",
    "        # adjust pitch around +2\n",
    "        octaves = 2.0 + random.random() * random_factor\n",
    "        frame_rate = int(letter_sound.frame_rate * (2.0 ** octaves))\n",
    "        print('%s - octaves: %.2f, fr: %.d' % (letter, octaves, frame_rate))\n",
    "\n",
    "        new_sound = letter_sound._spawn(raw, overrides={'frame_rate': frame_rate})\n",
    "\n",
    "    # set frame rate to normal(44100) and combine letter sounds\n",
    "    new_sound = new_sound.set_frame_rate(normal_frame_rate)\n",
    "    result_sound = new_sound if result_sound is None else result_sound + new_sound\n",
    "    \n",
    "result_sound"
   ]
  },
  {
   "cell_type": "code",
   "execution_count": 11,
   "metadata": {},
   "outputs": [
    {
     "data": {
      "text/plain": [
       "<_io.BufferedRandom name='result/안녕하세요 너굴 상회입니다.mp3'>"
      ]
     },
     "execution_count": 11,
     "metadata": {},
     "output_type": "execute_result"
    }
   ],
   "source": [
    "result_sound.export('result/%s.mp3' % string, format='mp3')"
   ]
  },
  {
   "cell_type": "code",
   "execution_count": null,
   "metadata": {},
   "outputs": [],
   "source": []
  }
 ],
 "metadata": {
  "kernelspec": {
   "display_name": "tts",
   "language": "python",
   "name": "python3"
  },
  "language_info": {
   "codemirror_mode": {
    "name": "ipython",
    "version": 3
   },
   "file_extension": ".py",
   "mimetype": "text/x-python",
   "name": "python",
   "nbconvert_exporter": "python",
   "pygments_lexer": "ipython3",
   "version": "3.10.18"
  }
 },
 "nbformat": 4,
 "nbformat_minor": 4
}
