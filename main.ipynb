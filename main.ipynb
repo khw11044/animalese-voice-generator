{
 "cells": [
  {
   "cell_type": "code",
   "execution_count": 1,
   "metadata": {},
   "outputs": [],
   "source": [
    "from gtts import gTTS\n",
    "from pydub import AudioSegment\n",
    "import random, os"
   ]
  },
  {
   "cell_type": "markdown",
   "metadata": {},
   "source": [
    "# Create Directory for Cache and Result"
   ]
  },
  {
   "cell_type": "code",
   "execution_count": 2,
   "metadata": {},
   "outputs": [],
   "source": [
    "os.makedirs('samples', exist_ok=True)\n",
    "os.makedirs('result', exist_ok=True)"
   ]
  },
  {
   "cell_type": "markdown",
   "metadata": {},
   "source": [
    "# Define Input"
   ]
  },
  {
   "cell_type": "code",
   "execution_count": 11,
   "metadata": {},
   "outputs": [],
   "source": [
    "string = '만나서 반갑습니다'\n",
    "lang = 'ko'\n",
    "random_factor = 0.35\n",
    "normal_frame_rate = 44100"
   ]
  },
  {
   "cell_type": "markdown",
   "metadata": {},
   "source": [
    "# Process Audio"
   ]
  },
  {
   "cell_type": "code",
   "execution_count": null,
   "metadata": {},
   "outputs": [
    {
     "name": "stdout",
     "output_type": "stream",
     "text": [
      "만 - octaves: 2.22, fr: 112020\n",
      "나 - octaves: 2.28, fr: 116541\n",
      "서 - octaves: 2.35, fr: 122018\n",
      "반 - octaves: 2.11, fr: 103412\n",
      "갑 - octaves: 2.03, fr: 98060\n",
      "습 - octaves: 2.32, fr: 120030\n",
      "니 - octaves: 2.31, fr: 118804\n",
      "다 - octaves: 2.02, fr: 97496\n"
     ]
    },
    {
     "data": {
      "text/html": [
       "\n",
       "                    <audio controls>\n",
       "                        <source src=\"data:audio/mpeg;base64,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\" type=\"audio/mpeg\"/>\n",
       "                        Your browser does not support the audio element.\n",
       "                    </audio>\n",
       "                  "
      ],
      "text/plain": [
       "<pydub.audio_segment.AudioSegment at 0x795128f0d330>"
      ]
     },
     "execution_count": 12,
     "metadata": {},
     "output_type": "execute_result"
    }
   ],
   "source": [
    "result_sound = None\n",
    "\n",
    "# 입력한 텍스트를 하나씩 분리\n",
    "for i, letter in enumerate(string):\n",
    "    if letter == ' ': # fill empty sound\n",
    "        new_sound = letter_sound._spawn(b'\\x00' * (normal_frame_rate // 3), overrides={'frame_rate': normal_frame_rate})\n",
    "    else: # fill tts sound\n",
    "        # 한글자 별, 한글자 이름의 mp3 파일이 기존에 없다면\n",
    "        if not os.path.isfile('samples/%s.mp3' % letter):\n",
    "            # tts로 음성 파일을 만들어 저장함\n",
    "            tts = gTTS(letter, lang=lang)\n",
    "            tts.save('samples/%s.mp3' % letter)\n",
    "\n",
    "        # 해당 글자의 음성파일이 있으면 불러옴\n",
    "        letter_sound = AudioSegment.from_mp3('samples/%s.mp3' % letter)\n",
    "\n",
    "        # slice out head and tail part of audio\n",
    "        raw = letter_sound.raw_data[5000:-5000]\n",
    "\n",
    "        # adjust pitch around +2\n",
    "        octaves = 2.0 + random.random() * random_factor\n",
    "        frame_rate = int(letter_sound.frame_rate * (2.0 ** octaves))\n",
    "        print('%s - octaves: %.2f, fr: %.d' % (letter, octaves, frame_rate))\n",
    "\n",
    "        new_sound = letter_sound._spawn(raw, overrides={'frame_rate': frame_rate})\n",
    "\n",
    "    # set frame rate to normal(44100) and combine letter sounds\n",
    "    new_sound = new_sound.set_frame_rate(normal_frame_rate)\n",
    "    result_sound = new_sound if result_sound is None else result_sound + new_sound\n",
    "    \n",
    "result_sound"
   ]
  },
  {
   "cell_type": "code",
   "execution_count": 11,
   "metadata": {},
   "outputs": [
    {
     "data": {
      "text/plain": [
       "<_io.BufferedRandom name='result/안녕하세요 너굴 상회입니다.mp3'>"
      ]
     },
     "execution_count": 11,
     "metadata": {},
     "output_type": "execute_result"
    }
   ],
   "source": [
    "result_sound.export('result/%s.mp3' % string, format='mp3')"
   ]
  },
  {
   "cell_type": "code",
   "execution_count": null,
   "metadata": {},
   "outputs": [],
   "source": []
  }
 ],
 "metadata": {
  "kernelspec": {
   "display_name": "tts",
   "language": "python",
   "name": "python3"
  },
  "language_info": {
   "codemirror_mode": {
    "name": "ipython",
    "version": 3
   },
   "file_extension": ".py",
   "mimetype": "text/x-python",
   "name": "python",
   "nbconvert_exporter": "python",
   "pygments_lexer": "ipython3",
   "version": "3.10.18"
  }
 },
 "nbformat": 4,
 "nbformat_minor": 4
}
